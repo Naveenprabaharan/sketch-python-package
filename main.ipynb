{
 "cells": [
  {
   "cell_type": "code",
   "execution_count": 16,
   "metadata": {},
   "outputs": [
    {
     "name": "stdout",
     "output_type": "stream",
     "text": [
      "working\n",
      "Collecting plotly\n",
      "  Downloading plotly-5.13.0-py2.py3-none-any.whl (15.2 MB)\n",
      "     ---------------------------------------- 15.2/15.2 MB 1.7 MB/s eta 0:00:00\n",
      "Collecting tenacity>=6.2.0\n",
      "  Downloading tenacity-8.1.0-py3-none-any.whl (23 kB)\n",
      "Installing collected packages: tenacity, plotly\n",
      "Successfully installed plotly-5.13.0 tenacity-8.1.0\n"
     ]
    },
    {
     "name": "stderr",
     "output_type": "stream",
     "text": [
      "\n",
      "[notice] A new release of pip available: 22.3.1 -> 23.0\n",
      "[notice] To update, run: python.exe -m pip install --upgrade pip\n"
     ]
    }
   ],
   "source": [
    "print(\"working\")\n",
    "# !pip install sketch\n",
    "# !pip install openpyxl\n",
    "# !pip install matplotlib\n",
    "# !pip install seaborn\n",
    "!pip install plotly\n",
    "\n"
   ]
  },
  {
   "cell_type": "code",
   "execution_count": 2,
   "metadata": {},
   "outputs": [],
   "source": [
    "import pandas as pd\n",
    "import sketch\n",
    "import matplotlib as plt"
   ]
  },
  {
   "cell_type": "code",
   "execution_count": 3,
   "metadata": {},
   "outputs": [],
   "source": [
    "df = pd.read_csv('supermarket.csv')"
   ]
  },
  {
   "cell_type": "code",
   "execution_count": 4,
   "metadata": {},
   "outputs": [
    {
     "data": {
      "text/html": [
       "<div>\n",
       "<style scoped>\n",
       "    .dataframe tbody tr th:only-of-type {\n",
       "        vertical-align: middle;\n",
       "    }\n",
       "\n",
       "    .dataframe tbody tr th {\n",
       "        vertical-align: top;\n",
       "    }\n",
       "\n",
       "    .dataframe thead th {\n",
       "        text-align: right;\n",
       "    }\n",
       "</style>\n",
       "<table border=\"1\" class=\"dataframe\">\n",
       "  <thead>\n",
       "    <tr style=\"text-align: right;\">\n",
       "      <th></th>\n",
       "      <th>Invoice ID</th>\n",
       "      <th>Branch</th>\n",
       "      <th>City</th>\n",
       "      <th>Customer type</th>\n",
       "      <th>Gender</th>\n",
       "      <th>Product line</th>\n",
       "      <th>Unit price</th>\n",
       "      <th>Quantity</th>\n",
       "      <th>Tax 5%</th>\n",
       "      <th>Total</th>\n",
       "      <th>Date</th>\n",
       "      <th>Time</th>\n",
       "      <th>Payment</th>\n",
       "      <th>cogs</th>\n",
       "      <th>gross margin percentage</th>\n",
       "      <th>gross income</th>\n",
       "      <th>Rating</th>\n",
       "    </tr>\n",
       "  </thead>\n",
       "  <tbody>\n",
       "    <tr>\n",
       "      <th>0</th>\n",
       "      <td>750-67-8428</td>\n",
       "      <td>A</td>\n",
       "      <td>Yangon</td>\n",
       "      <td>Member</td>\n",
       "      <td>Female</td>\n",
       "      <td>Health and beauty</td>\n",
       "      <td>74.69</td>\n",
       "      <td>7</td>\n",
       "      <td>26.1415</td>\n",
       "      <td>548.9715</td>\n",
       "      <td>1/5/2019</td>\n",
       "      <td>13:08</td>\n",
       "      <td>Ewallet</td>\n",
       "      <td>522.83</td>\n",
       "      <td>4.761905</td>\n",
       "      <td>26.1415</td>\n",
       "      <td>9.1</td>\n",
       "    </tr>\n",
       "    <tr>\n",
       "      <th>1</th>\n",
       "      <td>226-31-3081</td>\n",
       "      <td>C</td>\n",
       "      <td>Naypyitaw</td>\n",
       "      <td>Normal</td>\n",
       "      <td>Female</td>\n",
       "      <td>Electronic accessories</td>\n",
       "      <td>15.28</td>\n",
       "      <td>5</td>\n",
       "      <td>3.8200</td>\n",
       "      <td>80.2200</td>\n",
       "      <td>3/8/2019</td>\n",
       "      <td>10:29</td>\n",
       "      <td>Cash</td>\n",
       "      <td>76.40</td>\n",
       "      <td>4.761905</td>\n",
       "      <td>3.8200</td>\n",
       "      <td>9.6</td>\n",
       "    </tr>\n",
       "    <tr>\n",
       "      <th>2</th>\n",
       "      <td>631-41-3108</td>\n",
       "      <td>A</td>\n",
       "      <td>Yangon</td>\n",
       "      <td>Normal</td>\n",
       "      <td>Male</td>\n",
       "      <td>Home and lifestyle</td>\n",
       "      <td>46.33</td>\n",
       "      <td>7</td>\n",
       "      <td>16.2155</td>\n",
       "      <td>340.5255</td>\n",
       "      <td>3/3/2019</td>\n",
       "      <td>13:23</td>\n",
       "      <td>Credit card</td>\n",
       "      <td>324.31</td>\n",
       "      <td>4.761905</td>\n",
       "      <td>16.2155</td>\n",
       "      <td>7.4</td>\n",
       "    </tr>\n",
       "    <tr>\n",
       "      <th>3</th>\n",
       "      <td>123-19-1176</td>\n",
       "      <td>A</td>\n",
       "      <td>Yangon</td>\n",
       "      <td>Member</td>\n",
       "      <td>Male</td>\n",
       "      <td>Health and beauty</td>\n",
       "      <td>58.22</td>\n",
       "      <td>8</td>\n",
       "      <td>23.2880</td>\n",
       "      <td>489.0480</td>\n",
       "      <td>1/27/2019</td>\n",
       "      <td>20:33</td>\n",
       "      <td>Ewallet</td>\n",
       "      <td>465.76</td>\n",
       "      <td>4.761905</td>\n",
       "      <td>23.2880</td>\n",
       "      <td>8.4</td>\n",
       "    </tr>\n",
       "    <tr>\n",
       "      <th>4</th>\n",
       "      <td>373-73-7910</td>\n",
       "      <td>A</td>\n",
       "      <td>Yangon</td>\n",
       "      <td>Normal</td>\n",
       "      <td>Male</td>\n",
       "      <td>Sports and travel</td>\n",
       "      <td>86.31</td>\n",
       "      <td>7</td>\n",
       "      <td>30.2085</td>\n",
       "      <td>634.3785</td>\n",
       "      <td>2/8/2019</td>\n",
       "      <td>10:37</td>\n",
       "      <td>Ewallet</td>\n",
       "      <td>604.17</td>\n",
       "      <td>4.761905</td>\n",
       "      <td>30.2085</td>\n",
       "      <td>5.3</td>\n",
       "    </tr>\n",
       "  </tbody>\n",
       "</table>\n",
       "</div>"
      ],
      "text/plain": [
       "    Invoice ID Branch       City Customer type  Gender  \\\n",
       "0  750-67-8428      A     Yangon        Member  Female   \n",
       "1  226-31-3081      C  Naypyitaw        Normal  Female   \n",
       "2  631-41-3108      A     Yangon        Normal    Male   \n",
       "3  123-19-1176      A     Yangon        Member    Male   \n",
       "4  373-73-7910      A     Yangon        Normal    Male   \n",
       "\n",
       "             Product line  Unit price  Quantity   Tax 5%     Total       Date  \\\n",
       "0       Health and beauty       74.69         7  26.1415  548.9715   1/5/2019   \n",
       "1  Electronic accessories       15.28         5   3.8200   80.2200   3/8/2019   \n",
       "2      Home and lifestyle       46.33         7  16.2155  340.5255   3/3/2019   \n",
       "3       Health and beauty       58.22         8  23.2880  489.0480  1/27/2019   \n",
       "4       Sports and travel       86.31         7  30.2085  634.3785   2/8/2019   \n",
       "\n",
       "    Time      Payment    cogs  gross margin percentage  gross income  Rating  \n",
       "0  13:08      Ewallet  522.83                 4.761905       26.1415     9.1  \n",
       "1  10:29         Cash   76.40                 4.761905        3.8200     9.6  \n",
       "2  13:23  Credit card  324.31                 4.761905       16.2155     7.4  \n",
       "3  20:33      Ewallet  465.76                 4.761905       23.2880     8.4  \n",
       "4  10:37      Ewallet  604.17                 4.761905       30.2085     5.3  "
      ]
     },
     "execution_count": 4,
     "metadata": {},
     "output_type": "execute_result"
    }
   ],
   "source": [
    "df.head(5)"
   ]
  },
  {
   "cell_type": "code",
   "execution_count": 5,
   "metadata": {},
   "outputs": [
    {
     "data": {
      "text/html": [
       "\n",
       "Yes, there is Product line information in this dataset. The column is called \"Product line\" and it contains 6 unique values. The head sample of the data is: ['Health and beauty', 'Electronic accessories', 'Home and lifestyle', 'Health and beauty', 'Sports and travel']."
      ],
      "text/plain": [
       "<IPython.core.display.HTML object>"
      ]
     },
     "metadata": {},
     "output_type": "display_data"
    }
   ],
   "source": [
    "df.sketch.ask(\"is there any Product line information in this dataset?\")"
   ]
  },
  {
   "cell_type": "code",
   "execution_count": 6,
   "metadata": {},
   "outputs": [
    {
     "data": {
      "text/html": [
       "<div style=\"display:flex;flex-direction:row;justify-content:space-between;\">\n",
       "                <pre style=\"width: 100%; white-space: pre-wrap;\" id=\"7e8e0751-d5f9-4596-9d03-88bfef77ff40\">\n",
       "# Get the unique values of Customer type\n",
       "customer_types = df['Customer type'].unique()\n",
       "\n",
       "# Create a new column to store the consolidated Customer type information\n",
       "df['Consolidated Customer Type'] = df['Customer type']\n",
       "\n",
       "# Iterate through the unique values of Customer type\n",
       "for customer_type in customer_types:\n",
       "    # Replace the value with a consolidated value\n",
       "    df.loc[df['Customer type'] == customer_type, 'Consolidated Customer Type'] = 'Member/Normal'\n",
       "    \n",
       "# Print the head of the dataframe to check the new column\n",
       "print(df.head())\n",
       "</pre>\n",
       "                <button style=\"height: fit-content;\" onclick=\"navigator.clipboard.writeText(JSON.parse(atob(`IlxuIyBHZXQgdGhlIHVuaXF1ZSB2YWx1ZXMgb2YgQ3VzdG9tZXIgdHlwZVxuY3VzdG9tZXJfdHlwZXMgPSBkZlsnQ3VzdG9tZXIgdHlwZSddLnVuaXF1ZSgpXG5cbiMgQ3JlYXRlIGEgbmV3IGNvbHVtbiB0byBzdG9yZSB0aGUgY29uc29saWRhdGVkIEN1c3RvbWVyIHR5cGUgaW5mb3JtYXRpb25cbmRmWydDb25zb2xpZGF0ZWQgQ3VzdG9tZXIgVHlwZSddID0gZGZbJ0N1c3RvbWVyIHR5cGUnXVxuXG4jIEl0ZXJhdGUgdGhyb3VnaCB0aGUgdW5pcXVlIHZhbHVlcyBvZiBDdXN0b21lciB0eXBlXG5mb3IgY3VzdG9tZXJfdHlwZSBpbiBjdXN0b21lcl90eXBlczpcbiAgICAjIFJlcGxhY2UgdGhlIHZhbHVlIHdpdGggYSBjb25zb2xpZGF0ZWQgdmFsdWVcbiAgICBkZi5sb2NbZGZbJ0N1c3RvbWVyIHR5cGUnXSA9PSBjdXN0b21lcl90eXBlLCAnQ29uc29saWRhdGVkIEN1c3RvbWVyIFR5cGUnXSA9ICdNZW1iZXIvTm9ybWFsJ1xuICAgIFxuIyBQcmludCB0aGUgaGVhZCBvZiB0aGUgZGF0YWZyYW1lIHRvIGNoZWNrIHRoZSBuZXcgY29sdW1uXG5wcmludChkZi5oZWFkKCkpXG4i`)))\">Copy</button>\n",
       "                </div>"
      ],
      "text/plain": [
       "<IPython.core.display.HTML object>"
      ]
     },
     "metadata": {},
     "output_type": "display_data"
    }
   ],
   "source": [
    "df.sketch.howto(\"consolidate Customer type information in this dataset?\")"
   ]
  },
  {
   "cell_type": "code",
   "execution_count": 8,
   "metadata": {},
   "outputs": [
    {
     "name": "stdout",
     "output_type": "stream",
     "text": [
      "    Invoice ID Branch       City Customer type  Gender  \\\n",
      "0  750-67-8428      A     Yangon        Member  Female   \n",
      "1  226-31-3081      C  Naypyitaw        Normal  Female   \n",
      "2  631-41-3108      A     Yangon        Normal    Male   \n",
      "3  123-19-1176      A     Yangon        Member    Male   \n",
      "4  373-73-7910      A     Yangon        Normal    Male   \n",
      "\n",
      "             Product line  Unit price  Quantity   Tax 5%     Total       Date  \\\n",
      "0       Health and beauty       74.69         7  26.1415  548.9715   1/5/2019   \n",
      "1  Electronic accessories       15.28         5   3.8200   80.2200   3/8/2019   \n",
      "2      Home and lifestyle       46.33         7  16.2155  340.5255   3/3/2019   \n",
      "3       Health and beauty       58.22         8  23.2880  489.0480  1/27/2019   \n",
      "4       Sports and travel       86.31         7  30.2085  634.3785   2/8/2019   \n",
      "\n",
      "    Time      Payment    cogs  gross margin percentage  gross income  Rating  \\\n",
      "0  13:08      Ewallet  522.83                 4.761905       26.1415     9.1   \n",
      "1  10:29         Cash   76.40                 4.761905        3.8200     9.6   \n",
      "2  13:23  Credit card  324.31                 4.761905       16.2155     7.4   \n",
      "3  20:33      Ewallet  465.76                 4.761905       23.2880     8.4   \n",
      "4  10:37      Ewallet  604.17                 4.761905       30.2085     5.3   \n",
      "\n",
      "  Consolidated Customer Type  \n",
      "0              Member/Normal  \n",
      "1              Member/Normal  \n",
      "2              Member/Normal  \n",
      "3              Member/Normal  \n",
      "4              Member/Normal  \n"
     ]
    }
   ],
   "source": [
    "\n",
    "# Get the unique values of Customer type\n",
    "customer_types = df['Customer type'].unique()\n",
    "\n",
    "# Create a new column to store the consolidated Customer type information\n",
    "df['Consolidated Customer Type'] = df['Customer type']\n",
    "\n",
    "# Iterate through the unique values of Customer type\n",
    "for customer_type in customer_types:\n",
    "    # Replace the value with a consolidated value\n",
    "    df.loc[df['Customer type'] == customer_type, 'Consolidated Customer Type'] = 'Member/Normal'\n",
    "    \n",
    "# Print the head of the dataframe to check the new column\n",
    "print(df.head())\n"
   ]
  },
  {
   "cell_type": "code",
   "execution_count": 10,
   "metadata": {},
   "outputs": [
    {
     "data": {
      "text/html": [
       "\n",
       "<ul>\n",
       "  <li>index: Unique numerical identifier for each row in the dataframe.</li>\n",
       "  <li>Invoice ID: Unique identifier for each invoice.</li>\n",
       "  <li>Branch: Branch of the store from which the purchase was made.</li>\n",
       "  <li>City: City in which the purchase was made.</li>\n",
       "  <li>Customer type: Type of customer making the purchase (member or normal).</li>\n",
       "  <li>Gender: Gender of the customer making the purchase.</li>\n",
       "  <li>Product line: Category of product purchased.</li>\n",
       "  <li>Unit price: Price of each unit purchased.</li>\n",
       "  <li>Quantity: Number of units purchased.</li>\n",
       "  <li>Tax 5%: Tax rate applied to the purchase.</li>\n",
       "  <li>Total: Total cost of the purchase including tax.</li>\n",
       "  <li>Date: Date on which the purchase was made.</li>\n",
       "  <li>Time: Time at which the purchase was made.</li>\n",
       "  <li>Payment: Payment method used for the purchase.</li>\n",
       "  <li>COGS: Cost of goods sold for the purchase.</li>\n",
       "  <li>Gross margin percentage: Percentage of gross margin for the purchase.</li>\n",
       "  <li>Gross income: Gross income from the purchase.</li>\n",
       "  <li>Rating: Rating given to the purchase by the customer.</li>\n",
       "  <li>Consolidated Customer Type: Combination of customer type and gender (e.g. Member/Normal).</li>\n",
       "</ul>\n"
      ],
      "text/plain": [
       "<IPython.core.display.HTML object>"
      ]
     },
     "metadata": {},
     "output_type": "display_data"
    }
   ],
   "source": [
    "\n",
    "df.sketch.ask(\"can you each column fridnly name and description in single sentance (format output as html list)\")"
   ]
  },
  {
   "cell_type": "code",
   "execution_count": 11,
   "metadata": {},
   "outputs": [
    {
     "data": {
      "text/html": [
       "<div style=\"display:flex;flex-direction:row;justify-content:space-between;\">\n",
       "                <pre style=\"width: 100%; white-space: pre-wrap;\" id=\"1b4e12e2-1eb0-469f-8ac3-144c7f90ee64\">\n",
       "# Get the total quantity for each product line\n",
       "product_line_totals = df.groupby('Product line')['Quantity'].sum()\n",
       "\n",
       "# Find the product line with the highest total quantity\n",
       "max_product_line = product_line_totals.idxmax()\n",
       "\n",
       "print(f'The product line with the most volume is {max_product_line}.')\n",
       "</pre>\n",
       "                <button style=\"height: fit-content;\" onclick=\"navigator.clipboard.writeText(JSON.parse(atob(`IlxuIyBHZXQgdGhlIHRvdGFsIHF1YW50aXR5IGZvciBlYWNoIHByb2R1Y3QgbGluZVxucHJvZHVjdF9saW5lX3RvdGFscyA9IGRmLmdyb3VwYnkoJ1Byb2R1Y3QgbGluZScpWydRdWFudGl0eSddLnN1bSgpXG5cbiMgRmluZCB0aGUgcHJvZHVjdCBsaW5lIHdpdGggdGhlIGhpZ2hlc3QgdG90YWwgcXVhbnRpdHlcbm1heF9wcm9kdWN0X2xpbmUgPSBwcm9kdWN0X2xpbmVfdG90YWxzLmlkeG1heCgpXG5cbnByaW50KGYnVGhlIHByb2R1Y3QgbGluZSB3aXRoIHRoZSBtb3N0IHZvbHVtZSBpcyB7bWF4X3Byb2R1Y3RfbGluZX0uJylcbiI=`)))\">Copy</button>\n",
       "                </div>"
      ],
      "text/plain": [
       "<IPython.core.display.HTML object>"
      ]
     },
     "metadata": {},
     "output_type": "display_data"
    }
   ],
   "source": [
    "df.sketch.howto(\"which Product line has more volume?\")"
   ]
  },
  {
   "cell_type": "code",
   "execution_count": 12,
   "metadata": {},
   "outputs": [
    {
     "name": "stdout",
     "output_type": "stream",
     "text": [
      "The product line with the most volume is Electronic accessories.\n"
     ]
    }
   ],
   "source": [
    "\n",
    "# Get the total quantity for each product line\n",
    "product_line_totals = df.groupby('Product line')['Quantity'].sum()\n",
    "\n",
    "# Find the product line with the highest total quantity\n",
    "max_product_line = product_line_totals.idxmax()\n",
    "\n",
    "print(f'The product line with the most volume is {max_product_line}.')\n"
   ]
  },
  {
   "cell_type": "code",
   "execution_count": 13,
   "metadata": {},
   "outputs": [
    {
     "data": {
      "text/html": [
       "<div style=\"display:flex;flex-direction:row;justify-content:space-between;\">\n",
       "                <pre style=\"width: 100%; white-space: pre-wrap;\" id=\"7aa059c1-88df-4e38-9ce4-7278d13bab5d\">\n",
       "# import libraries\n",
       "import matplotlib.pyplot as plt\n",
       "import seaborn as sns\n",
       "\n",
       "# set figure size\n",
       "plt.figure(figsize=(10,6))\n",
       "\n",
       "# plot the data\n",
       "sns.countplot(x='Product line', hue='Customer type', data=df)\n",
       "\n",
       "# add labels and title\n",
       "plt.title('Product line based on Customer type volume')\n",
       "plt.xlabel('Product line')\n",
       "plt.ylabel('Count')\n",
       "\n",
       "# show plot\n",
       "plt.show()\n",
       "</pre>\n",
       "                <button style=\"height: fit-content;\" onclick=\"navigator.clipboard.writeText(JSON.parse(atob(`IlxuIyBpbXBvcnQgbGlicmFyaWVzXG5pbXBvcnQgbWF0cGxvdGxpYi5weXBsb3QgYXMgcGx0XG5pbXBvcnQgc2VhYm9ybiBhcyBzbnNcblxuIyBzZXQgZmlndXJlIHNpemVcbnBsdC5maWd1cmUoZmlnc2l6ZT0oMTAsNikpXG5cbiMgcGxvdCB0aGUgZGF0YVxuc25zLmNvdW50cGxvdCh4PSdQcm9kdWN0IGxpbmUnLCBodWU9J0N1c3RvbWVyIHR5cGUnLCBkYXRhPWRmKVxuXG4jIGFkZCBsYWJlbHMgYW5kIHRpdGxlXG5wbHQudGl0bGUoJ1Byb2R1Y3QgbGluZSBiYXNlZCBvbiBDdXN0b21lciB0eXBlIHZvbHVtZScpXG5wbHQueGxhYmVsKCdQcm9kdWN0IGxpbmUnKVxucGx0LnlsYWJlbCgnQ291bnQnKVxuXG4jIHNob3cgcGxvdFxucGx0LnNob3coKVxuIg==`)))\">Copy</button>\n",
       "                </div>"
      ],
      "text/plain": [
       "<IPython.core.display.HTML object>"
      ]
     },
     "metadata": {},
     "output_type": "display_data"
    }
   ],
   "source": [
    "df.sketch.howto(\"plot Product line based on Customer type volume\")"
   ]
  },
  {
   "cell_type": "code",
   "execution_count": 14,
   "metadata": {},
   "outputs": [
    {
     "data": {
      "image/png": "[encoded data removed]",
      "text/plain": [
       "<Figure size 1000x600 with 1 Axes>"
      ]
     },
     "metadata": {},
     "output_type": "display_data"
    }
   ],
   "source": [
    "\n",
    "# import libraries\n",
    "import matplotlib.pyplot as plt\n",
    "import seaborn as sns\n",
    "\n",
    "# set figure size\n",
    "plt.figure(figsize=(10,6))\n",
    "\n",
    "# plot the data\n",
    "sns.countplot(x='Product line', hue='Customer type', data=df)\n",
    "\n",
    "# add labels and title\n",
    "plt.title('Product line based on Customer type volume')\n",
    "plt.xlabel('Product line')\n",
    "plt.ylabel('Count')\n",
    "\n",
    "# show plot\n",
    "plt.show()\n"
   ]
  },
  {
   "cell_type": "code",
   "execution_count": 20,
   "metadata": {},
   "outputs": [
    {
     "data": {
      "text/html": [
       "<div style=\"display:flex;flex-direction:row;justify-content:space-between;\">\n",
       "                <pre style=\"width: 100%; white-space: pre-wrap;\" id=\"a54297c2-9511-4c41-8caf-ede1416c72ab\">\n",
       "import plotly.express as px\n",
       "\n",
       "fig = px.scatter_mapbox(df, lat=\"City\", lon=\"gross income\", color=\"gross income\",\n",
       "                        hover_name=\"City\", size=\"gross income\",\n",
       "                        zoom=3, height=300)\n",
       "fig.show()\n",
       "</pre>\n",
       "                <button style=\"height: fit-content;\" onclick=\"navigator.clipboard.writeText(JSON.parse(atob(`IlxuaW1wb3J0IHBsb3RseS5leHByZXNzIGFzIHB4XG5cbmZpZyA9IHB4LnNjYXR0ZXJfbWFwYm94KGRmLCBsYXQ9XCJDaXR5XCIsIGxvbj1cImdyb3NzIGluY29tZVwiLCBjb2xvcj1cImdyb3NzIGluY29tZVwiLFxuICAgICAgICAgICAgICAgICAgICAgICAgaG92ZXJfbmFtZT1cIkNpdHlcIiwgc2l6ZT1cImdyb3NzIGluY29tZVwiLFxuICAgICAgICAgICAgICAgICAgICAgICAgem9vbT0zLCBoZWlnaHQ9MzAwKVxuZmlnLnNob3coKVxuIg==`)))\">Copy</button>\n",
       "                </div>"
      ],
      "text/plain": [
       "<IPython.core.display.HTML object>"
      ]
     },
     "metadata": {},
     "output_type": "display_data"
    }
   ],
   "source": [
    "df.sketch.howto(\"using plotly, plot a map gross income in each city\")"
   ]
  }
 ],
 "metadata": {
  "kernelspec": {
   "display_name": "Python 3",
   "language": "python",
   "name": "python3"
  },
  "language_info": {
   "codemirror_mode": {
    "name": "ipython",
    "version": 3
   },
   "file_extension": ".py",
   "mimetype": "text/x-python",
   "name": "python",
   "nbconvert_exporter": "python",
   "pygments_lexer": "ipython3",
   "version": "3.11.1"
  },
  "orig_nbformat": 4,
  "vscode": {
   "interpreter": {
    "hash": "509514f03cca77f750e959a8f191e1c29c9b1853b3bf8f208a02bf47ada902a8"
   }
  }
 },
 "nbformat": 4,
 "nbformat_minor": 2
}
